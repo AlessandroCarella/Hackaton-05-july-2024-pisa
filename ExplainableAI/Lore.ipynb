{
 "cells": [
  {
   "cell_type": "code",
   "execution_count": 1,
   "metadata": {},
   "outputs": [],
   "source": [
    "import pandas as pd"
   ]
  },
  {
   "cell_type": "code",
   "execution_count": 2,
   "metadata": {},
   "outputs": [],
   "source": [
    "df = pd.read_csv(\"../Dataset/final dataset.csv\")"
   ]
  },
  {
   "cell_type": "code",
   "execution_count": 3,
   "metadata": {},
   "outputs": [
    {
     "data": {
      "text/plain": [
       "treat\n",
       "0    42614\n",
       "1    42614\n",
       "Name: count, dtype: int64"
      ]
     },
     "execution_count": 3,
     "metadata": {},
     "output_type": "execute_result"
    }
   ],
   "source": [
    "df[\"treat\"].value_counts()"
   ]
  },
  {
   "cell_type": "code",
   "execution_count": 4,
   "metadata": {},
   "outputs": [],
   "source": [
    "from sklearn.model_selection import train_test_split"
   ]
  },
  {
   "cell_type": "code",
   "execution_count": 5,
   "metadata": {},
   "outputs": [],
   "source": [
    "train_cols = df.columns.difference(['customer_types', 'conversion', 'offer', 'treat'])\n",
    "X = df[train_cols] \n",
    "y = df['treat']"
   ]
  },
  {
   "cell_type": "code",
   "execution_count": 6,
   "metadata": {},
   "outputs": [],
   "source": [
    "X_train, X_test, Y_train, Y_test = train_test_split(X, y, test_size=0.25, random_state=12)"
   ]
  },
  {
   "cell_type": "code",
   "execution_count": 7,
   "metadata": {},
   "outputs": [],
   "source": [
    "import pickle"
   ]
  },
  {
   "cell_type": "code",
   "execution_count": 8,
   "metadata": {},
   "outputs": [],
   "source": [
    "with open (\"gmBoost.pickle\", \"rb\") as f:\n",
    "    clf = pickle.load(f)"
   ]
  },
  {
   "cell_type": "code",
   "execution_count": 9,
   "metadata": {},
   "outputs": [],
   "source": [
    "from xailib.explainers.lore_explainer import LoreTabularExplainer\n",
    "\n",
    "from xailib.models.sklearn_classifier_wrapper import sklearn_classifier_wrapper"
   ]
  },
  {
   "cell_type": "code",
   "execution_count": 10,
   "metadata": {},
   "outputs": [],
   "source": [
    "bbox = sklearn_classifier_wrapper(clf)   "
   ]
  },
  {
   "cell_type": "code",
   "execution_count": 11,
   "metadata": {},
   "outputs": [
    {
     "name": "stdout",
     "output_type": "stream",
     "text": [
      "Instance:\n",
      "channel: 1.0\n",
      "history: 193.9584149005614\n",
      "is_referral: 0.0\n",
      "recency: 1.0\n",
      "used_bogo: 1.0\n",
      "used_discount: 0.0\n",
      "zip_code: 2.0\n",
      "True class: 1\n",
      "Predicted class: 1\n"
     ]
    }
   ],
   "source": [
    "# Select the first instance from the test set\n",
    "instNumber = 147\n",
    "inst = X_test.iloc[instNumber].values\n",
    "instPrint = X_test.iloc[instNumber]\n",
    "\n",
    "# Print each feature name and its associated value\n",
    "print('Instance:')\n",
    "for column, value in instPrint.items():\n",
    "    print(f'{column}: {value}')\n",
    "\n",
    "# Print the true class\n",
    "true_class = Y_train.iloc[8]\n",
    "print('True class:', true_class)\n",
    "\n",
    "# Print the predicted class\n",
    "predicted_class = clf.predict(instPrint.values.reshape(1, -1))\n",
    "print('Predicted class:', predicted_class[0])\n"
   ]
  },
  {
   "cell_type": "code",
   "execution_count": 12,
   "metadata": {},
   "outputs": [
    {
     "name": "stdout",
     "output_type": "stream",
     "text": [
      "<xailib.explainers.lore_explainer.LoreTabularExplanation object at 0x000001EC50318400>\n"
     ]
    }
   ],
   "source": [
    "explainer = LoreTabularExplainer(bbox)\n",
    "config = {'neigh_type':'rndgen', 'size':1000, 'ocr':0.1, 'ngen':10}\n",
    "explainer.fit(df, \"treat\", config)\n",
    "exp = explainer.explain(inst)\n",
    "print(exp)"
   ]
  },
  {
   "cell_type": "code",
   "execution_count": 13,
   "metadata": {},
   "outputs": [
    {
     "data": {
      "text/html": [
       "\n",
       "                <style>\n",
       "                .red {\n",
       "                background-color:firebrick;\n",
       "                padding:3px 5px 3px 5px;\n",
       "                border-radius:5px;\n",
       "\n",
       "                color:white;\n",
       "                }\n",
       "                .rules{\n",
       "                    margin-top:10px;\n",
       "                    font-weight: 400;\n",
       "                }\n",
       "                .rule{\n",
       "                padding:5px 20px 5px 20px;\n",
       "                border-radius:5px;\n",
       "                margin-right:5px;\n",
       "                font-size:12px;\n",
       "                line-height:20px;\n",
       "                display: block;\n",
       "                margin-bottom: 10px;\n",
       "                width: fit-content;\n",
       "                \n",
       "                color:white;\n",
       "                background-color:firebrick;\n",
       "                opacity:0.8;\n",
       "                }\n",
       "                </style>\n",
       "                "
      ],
      "text/plain": [
       "<IPython.core.display.HTML object>"
      ]
     },
     "metadata": {},
     "output_type": "display_data"
    },
    {
     "data": {
      "text/html": [
       "\n",
       "            <h3>Why the predicted value for class <span class='red'>treat</span> is <span class='red'>1</span> ?</h3>\n",
       "            "
      ],
      "text/plain": [
       "<IPython.core.display.HTML object>"
      ]
     },
     "metadata": {},
     "output_type": "display_data"
    },
    {
     "data": {
      "text/html": [
       "\n",
       "            <p>Because all the following conditions happen:</p>\n",
       "            "
      ],
      "text/plain": [
       "<IPython.core.display.HTML object>"
      ]
     },
     "metadata": {},
     "output_type": "display_data"
    },
    {
     "data": {
      "text/html": [
       "<p class='rules'><span class='rule'>used discount <strong><=</strong> 0.08</span><span class='rule'>used bogo <strong>></strong> 0.60</span><span class='rule'>channel <strong><=</strong> 1.53</span><span class='rule'>recency <strong><=</strong> 1.50</span><span class='rule'>is referral <strong><=</strong> 0.50</span><span class='rule'>history <strong><=</strong> 304.41</span><span class='rule'>history <strong>></strong> 99.38</span><span class='rule'>zip code <strong>></strong> 1.50</span></p>"
      ],
      "text/plain": [
       "<IPython.core.display.HTML object>"
      ]
     },
     "metadata": {},
     "output_type": "display_data"
    }
   ],
   "source": [
    "exp.plotRules()"
   ]
  },
  {
   "cell_type": "code",
   "execution_count": 14,
   "metadata": {},
   "outputs": [
    {
     "name": "stdout",
     "output_type": "stream",
     "text": [
      "used_discount\n",
      "used_bogo\n",
      "channel\n",
      "recency\n",
      "is_referral\n",
      "history\n",
      "history\n",
      "zip_code\n"
     ]
    }
   ],
   "source": [
    "for key in exp.getRules()[\"premise\"]:\n",
    "    print(key['att'])"
   ]
  },
  {
   "cell_type": "code",
   "execution_count": 16,
   "metadata": {},
   "outputs": [
    {
     "ename": "AttributeError",
     "evalue": "'LoreTabularExplanation' object has no attribute 'as_list'",
     "output_type": "error",
     "traceback": [
      "\u001b[1;31m---------------------------------------------------------------------------\u001b[0m",
      "\u001b[1;31mAttributeError\u001b[0m                            Traceback (most recent call last)",
      "Cell \u001b[1;32mIn[16], line 1\u001b[0m\n\u001b[1;32m----> 1\u001b[0m lore_rules \u001b[38;5;241m=\u001b[39m \u001b[43mexp\u001b[49m\u001b[38;5;241;43m.\u001b[39;49m\u001b[43mas_list\u001b[49m()\n\u001b[0;32m      2\u001b[0m lore_rule_count \u001b[38;5;241m=\u001b[39m \u001b[38;5;28mlen\u001b[39m(lore_rules)\n\u001b[0;32m      3\u001b[0m \u001b[38;5;28mprint\u001b[39m(\u001b[38;5;124mf\u001b[39m\u001b[38;5;124m\"\u001b[39m\u001b[38;5;124mNumber of rules in LORE explanation: \u001b[39m\u001b[38;5;132;01m{\u001b[39;00mlore_rule_count\u001b[38;5;132;01m}\u001b[39;00m\u001b[38;5;124m\"\u001b[39m)\n",
      "\u001b[1;31mAttributeError\u001b[0m: 'LoreTabularExplanation' object has no attribute 'as_list'"
     ]
    }
   ],
   "source": [
    "lore_rules = exp.as_list()\n",
    "lore_rule_count = len(lore_rules)\n",
    "print(f\"Number of rules in LORE explanation: {lore_rule_count}\")"
   ]
  }
 ],
 "metadata": {
  "kernelspec": {
   "display_name": "Python 3",
   "language": "python",
   "name": "python3"
  },
  "language_info": {
   "codemirror_mode": {
    "name": "ipython",
    "version": 3
   },
   "file_extension": ".py",
   "mimetype": "text/x-python",
   "name": "python",
   "nbconvert_exporter": "python",
   "pygments_lexer": "ipython3",
   "version": "3.9.13"
  }
 },
 "nbformat": 4,
 "nbformat_minor": 2
}
