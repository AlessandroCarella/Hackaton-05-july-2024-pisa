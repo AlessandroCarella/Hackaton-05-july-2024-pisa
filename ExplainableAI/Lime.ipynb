{
 "cells": [
  {
   "cell_type": "code",
   "execution_count": 2,
   "metadata": {},
   "outputs": [],
   "source": [
    "from xailib.explainers.lime_explainer import LimeXAITabularExplainer\n",
    "import pandas as pd\n",
    "import numpy as np\n",
    "import pickle\n",
    "from utils import getDataset"
   ]
  },
  {
   "cell_type": "code",
   "execution_count": 4,
   "metadata": {},
   "outputs": [
    {
     "ename": "ModuleNotFoundError",
     "evalue": "No module named '_loss'",
     "output_type": "error",
     "traceback": [
      "\u001b[0;31m---------------------------------------------------------------------------\u001b[0m",
      "\u001b[0;31mModuleNotFoundError\u001b[0m                       Traceback (most recent call last)",
      "Cell \u001b[0;32mIn[4], line 6\u001b[0m\n\u001b[1;32m      3\u001b[0m df \u001b[38;5;241m=\u001b[39m pd\u001b[38;5;241m.\u001b[39mread_csv(\u001b[38;5;124m\"\u001b[39m\u001b[38;5;124m../Dataset/final dataset.csv\u001b[39m\u001b[38;5;124m\"\u001b[39m)\n\u001b[1;32m      5\u001b[0m \u001b[38;5;28;01mwith\u001b[39;00m \u001b[38;5;28mopen\u001b[39m (\u001b[38;5;124m\"\u001b[39m\u001b[38;5;124mgmBoost.pickle\u001b[39m\u001b[38;5;124m\"\u001b[39m, \u001b[38;5;124m\"\u001b[39m\u001b[38;5;124mrb\u001b[39m\u001b[38;5;124m\"\u001b[39m) \u001b[38;5;28;01mas\u001b[39;00m f:\n\u001b[0;32m----> 6\u001b[0m     model \u001b[38;5;241m=\u001b[39m \u001b[43mpickle\u001b[49m\u001b[38;5;241;43m.\u001b[39;49m\u001b[43mload\u001b[49m\u001b[43m(\u001b[49m\u001b[43mf\u001b[49m\u001b[43m)\u001b[49m \n\u001b[1;32m      8\u001b[0m X_train, X_test, Y_train, Y_test \u001b[38;5;241m=\u001b[39m getDataset()\n\u001b[1;32m      9\u001b[0m model\u001b[38;5;241m.\u001b[39mfit(X_train,Y_train)\n",
      "\u001b[0;31mModuleNotFoundError\u001b[0m: No module named '_loss'"
     ]
    }
   ],
   "source": [
    "from xailib.models.sklearn_classifier_wrapper import sklearn_classifier_wrapper\n",
    "\n",
    "df = pd.read_csv(\"../Dataset/final dataset.csv\")\n",
    "\n",
    "with open (\"gmBoost.pickle\", \"rb\") as f:\n",
    "    model = pickle.load(f) \n",
    "\n",
    "X_train, X_test, Y_train, Y_test = getDataset()\n",
    "model.fit(X_train,Y_train)\n",
    "bbox = sklearn_classifier_wrapper(model)\n",
    "inst = X_train.iloc[147].values\n",
    "limeExplainer = LimeXAITabularExplainer(bbox)\n",
    "config = {'feature_selection': 'lasso_path'}\n",
    "limeExplainer.fit(df, \"treat\", config)\n",
    "lime_exp = limeExplainer.explain(inst)\n",
    "print(lime_exp.exp.as_list())\n",
    "\n",
    "# limeExplainer.plot_lime_values(lime_exp.as_list(), 5, 10)\n",
    "lime_exp.plot_features_importance()"
   ]
  }
 ],
 "metadata": {
  "kernelspec": {
   "display_name": "dm2_work",
   "language": "python",
   "name": "python3"
  },
  "language_info": {
   "codemirror_mode": {
    "name": "ipython",
    "version": 3
   },
   "file_extension": ".py",
   "mimetype": "text/x-python",
   "name": "python",
   "nbconvert_exporter": "python",
   "pygments_lexer": "ipython3",
   "version": "3.9.19"
  }
 },
 "nbformat": 4,
 "nbformat_minor": 2
}
