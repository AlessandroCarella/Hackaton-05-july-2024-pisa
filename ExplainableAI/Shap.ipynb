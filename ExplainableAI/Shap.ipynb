{
 "cells": [
  {
   "cell_type": "code",
   "execution_count": 1,
   "metadata": {},
   "outputs": [
    {
     "name": "stderr",
     "output_type": "stream",
     "text": [
      "C:\\Users\\alex1\\AppData\\Local\\Packages\\PythonSoftwareFoundation.Python.3.9_qbz5n2kfra8p0\\LocalCache\\local-packages\\Python39\\site-packages\\tqdm\\auto.py:21: TqdmWarning: IProgress not found. Please update jupyter and ipywidgets. See https://ipywidgets.readthedocs.io/en/stable/user_install.html\n",
      "  from .autonotebook import tqdm as notebook_tqdm\n"
     ]
    }
   ],
   "source": [
    "from xailib.explainers.shap_explainer_tab import ShapXAITabularExplainer\n",
    "import pickle\n",
    "from xailib.models.sklearn_classifier_wrapper import sklearn_classifier_wrapper\n",
    "from utils import getDataset\n"
   ]
  },
  {
   "cell_type": "code",
   "execution_count": 2,
   "metadata": {},
   "outputs": [],
   "source": [
    "X_train, X_test, Y_train, Y_test = getDataset()\n",
    "\n",
    "with open (\"gmBoost.pickle\", \"rb\") as f:\n",
    "     model = pickle.load(f)"
   ]
  },
  {
   "cell_type": "code",
   "execution_count": 6,
   "metadata": {},
   "outputs": [],
   "source": [
    "import pandas as pd\n",
    "df = pd.read_csv(\"../Dataset/final dataset.csv\")"
   ]
  },
  {
   "cell_type": "code",
   "execution_count": 8,
   "metadata": {},
   "outputs": [
    {
     "name": "stdout",
     "output_type": "stream",
     "text": [
      "Instance  [  1.        193.9584149   0.          1.          1.          0.\n",
      "   2.       ]\n",
      "True class  0\n",
      "Predicted class  [1]\n"
     ]
    },
    {
     "name": "stderr",
     "output_type": "stream",
     "text": [
      "C:\\Users\\alex1\\AppData\\Local\\Packages\\PythonSoftwareFoundation.Python.3.9_qbz5n2kfra8p0\\LocalCache\\local-packages\\Python39\\site-packages\\sklearn\\base.py:493: UserWarning: X does not have valid feature names, but GradientBoostingClassifier was fitted with feature names\n",
      "  warnings.warn(\n"
     ]
    },
    {
     "ename": "TypeError",
     "evalue": "__init__() missing 1 required positional argument: 'feature_names'",
     "output_type": "error",
     "traceback": [
      "\u001b[1;31m---------------------------------------------------------------------------\u001b[0m",
      "\u001b[1;31mTypeError\u001b[0m                                 Traceback (most recent call last)",
      "Cell \u001b[1;32mIn[8], line 9\u001b[0m\n\u001b[0;32m      6\u001b[0m \u001b[38;5;28mprint\u001b[39m(\u001b[38;5;124m'\u001b[39m\u001b[38;5;124mTrue class \u001b[39m\u001b[38;5;124m'\u001b[39m,Y_test\u001b[38;5;241m.\u001b[39miloc[\u001b[38;5;241m42\u001b[39m])\n\u001b[0;32m      7\u001b[0m \u001b[38;5;28mprint\u001b[39m(\u001b[38;5;124m'\u001b[39m\u001b[38;5;124mPredicted class \u001b[39m\u001b[38;5;124m'\u001b[39m,model\u001b[38;5;241m.\u001b[39mpredict(inst\u001b[38;5;241m.\u001b[39mreshape(\u001b[38;5;241m1\u001b[39m, \u001b[38;5;241m-\u001b[39m\u001b[38;5;241m1\u001b[39m)))\n\u001b[1;32m----> 9\u001b[0m explainer \u001b[38;5;241m=\u001b[39m \u001b[43mShapXAITabularExplainer\u001b[49m\u001b[43m(\u001b[49m\u001b[43mbbox\u001b[49m\u001b[43m)\u001b[49m\n\u001b[0;32m     10\u001b[0m config \u001b[38;5;241m=\u001b[39m {\u001b[38;5;124m'\u001b[39m\u001b[38;5;124mexplainer\u001b[39m\u001b[38;5;124m'\u001b[39m : \u001b[38;5;124m'\u001b[39m\u001b[38;5;124mtree\u001b[39m\u001b[38;5;124m'\u001b[39m, \u001b[38;5;124m'\u001b[39m\u001b[38;5;124mX_train\u001b[39m\u001b[38;5;124m'\u001b[39m : X_train\u001b[38;5;241m.\u001b[39miloc[\u001b[38;5;241m0\u001b[39m:\u001b[38;5;241m100\u001b[39m]\u001b[38;5;241m.\u001b[39mvalues, \u001b[38;5;124m'\u001b[39m\u001b[38;5;124mfeature_pert\u001b[39m\u001b[38;5;124m'\u001b[39m : \u001b[38;5;124m'\u001b[39m\u001b[38;5;124minterventional\u001b[39m\u001b[38;5;124m'\u001b[39m}\n\u001b[0;32m     11\u001b[0m explainer\u001b[38;5;241m.\u001b[39mfit(df, \u001b[38;5;124m\"\u001b[39m\u001b[38;5;124mtreat\u001b[39m\u001b[38;5;124m\"\u001b[39m, config)\n",
      "\u001b[1;31mTypeError\u001b[0m: __init__() missing 1 required positional argument: 'feature_names'"
     ]
    }
   ],
   "source": [
    "model.fit(X_train, Y_train)\n",
    "bbox = sklearn_classifier_wrapper(model)\n",
    "\n",
    "inst = X_test.iloc[147].values\n",
    "print('Instance ',inst)\n",
    "print('True class ',Y_test.iloc[42])\n",
    "print('Predicted class ',model.predict(inst.reshape(1, -1)))\n",
    "\n",
    "explainer = ShapXAITabularExplainer(bbox)\n",
    "config = {'explainer' : 'tree', 'X_train' : X_train.iloc[0:100].values, 'feature_pert' : 'interventional'}\n",
    "explainer.fit(df, \"treat\", config)\n",
    "exp = explainer.explain(inst)"
   ]
  }
 ],
 "metadata": {
  "kernelspec": {
   "display_name": "base",
   "language": "python",
   "name": "python3"
  },
  "language_info": {
   "codemirror_mode": {
    "name": "ipython",
    "version": 3
   },
   "file_extension": ".py",
   "mimetype": "text/x-python",
   "name": "python",
   "nbconvert_exporter": "python",
   "pygments_lexer": "ipython3",
   "version": "3.9.13"
  }
 },
 "nbformat": 4,
 "nbformat_minor": 2
}
