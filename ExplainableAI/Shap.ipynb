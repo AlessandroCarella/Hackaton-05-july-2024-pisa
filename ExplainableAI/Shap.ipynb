{
 "cells": [
  {
   "cell_type": "code",
   "execution_count": 1,
   "metadata": {},
   "outputs": [
    {
     "name": "stderr",
     "output_type": "stream",
     "text": [
      "C:\\Users\\alex1\\AppData\\Local\\Packages\\PythonSoftwareFoundation.Python.3.9_qbz5n2kfra8p0\\LocalCache\\local-packages\\Python39\\site-packages\\tqdm\\auto.py:21: TqdmWarning: IProgress not found. Please update jupyter and ipywidgets. See https://ipywidgets.readthedocs.io/en/stable/user_install.html\n",
      "  from .autonotebook import tqdm as notebook_tqdm\n"
     ]
    }
   ],
   "source": [
    "from xailib.explainers.shap_explainer_tab import ShapXAITabularExplainer\n",
    "import pickle\n",
    "from xailib.models.sklearn_classifier_wrapper import sklearn_classifier_wrapper\n",
    "from utils import getDataset\n"
   ]
  },
  {
   "cell_type": "code",
   "execution_count": 11,
   "metadata": {},
   "outputs": [],
   "source": [
    "X_train, X_test, Y_train, Y_test = getDataset()\n",
    "\n",
    "with open (\"gmBoost.pickle\", \"rb\") as f:\n",
    "     model = pickle.load(f)"
   ]
  },
  {
   "cell_type": "code",
   "execution_count": 12,
   "metadata": {},
   "outputs": [],
   "source": [
    "import pandas as pd\n",
    "df = pd.read_csv(\"../Dataset/final dataset.csv\")"
   ]
  },
  {
   "cell_type": "code",
   "execution_count": 14,
   "metadata": {},
   "outputs": [],
   "source": [
    "train_cols = df.columns.difference(['customer_types', 'conversion', 'offer', 'treat'])"
   ]
  },
  {
   "cell_type": "code",
   "execution_count": 19,
   "metadata": {},
   "outputs": [
    {
     "data": {
      "text/plain": [
       "['channel',\n",
       " 'history',\n",
       " 'is_referral',\n",
       " 'recency',\n",
       " 'used_bogo',\n",
       " 'used_discount',\n",
       " 'zip_code']"
      ]
     },
     "execution_count": 19,
     "metadata": {},
     "output_type": "execute_result"
    }
   ],
   "source": [
    "list(train_cols)"
   ]
  },
  {
   "cell_type": "code",
   "execution_count": 21,
   "metadata": {},
   "outputs": [
    {
     "name": "stdout",
     "output_type": "stream",
     "text": [
      "Instance  [  1.        193.9584149   0.          1.          1.          0.\n",
      "   2.       ]\n",
      "True class  0\n",
      "Predicted class  [1]\n"
     ]
    },
    {
     "name": "stderr",
     "output_type": "stream",
     "text": [
      "C:\\Users\\alex1\\AppData\\Local\\Packages\\PythonSoftwareFoundation.Python.3.9_qbz5n2kfra8p0\\LocalCache\\local-packages\\Python39\\site-packages\\sklearn\\base.py:493: UserWarning: X does not have valid feature names, but GradientBoostingClassifier was fitted with feature names\n",
      "  warnings.warn(\n"
     ]
    }
   ],
   "source": [
    "model.fit(X_train, Y_train)\n",
    "bbox = sklearn_classifier_wrapper(model)\n",
    "\n",
    "inst = X_test.iloc[147].values\n",
    "print('Instance ',inst)\n",
    "print('True class ',Y_test.iloc[42])\n",
    "print('Predicted class ',model.predict(inst.reshape(1, -1)))\n",
    "\n",
    "explainer = ShapXAITabularExplainer(bbox, list(train_cols))\n",
    "config = {'explainer' : 'tree', 'X_train' : X_train.values}\n",
    "explainer.fit(config)\n",
    "exp = explainer.explain(inst)"
   ]
  }
 ],
 "metadata": {
  "kernelspec": {
   "display_name": "base",
   "language": "python",
   "name": "python3"
  },
  "language_info": {
   "codemirror_mode": {
    "name": "ipython",
    "version": 3
   },
   "file_extension": ".py",
   "mimetype": "text/x-python",
   "name": "python",
   "nbconvert_exporter": "python",
   "pygments_lexer": "ipython3",
   "version": "3.9.13"
  }
 },
 "nbformat": 4,
 "nbformat_minor": 2
}
