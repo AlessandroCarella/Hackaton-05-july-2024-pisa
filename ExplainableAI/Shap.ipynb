{
 "cells": [
  {
   "cell_type": "code",
   "execution_count": 1,
   "metadata": {},
   "outputs": [],
   "source": [
    "from xailib.explainers.shap_explainer_tab import ShapXAITabularExplainer\n",
    "import pickle\n",
    "from xailib.models.sklearn_classifier_wrapper import sklearn_classifier_wrapper\n"
   ]
  },
  {
   "cell_type": "code",
   "execution_count": null,
   "metadata": {},
   "outputs": [],
   "source": []
  },
  {
   "cell_type": "code",
   "execution_count": null,
   "metadata": {},
   "outputs": [],
   "source": [
    "with open (\"GradientBoostingClassifierBestModel.pickle\", \"rb\") as f:\n",
    "    model = pickle.load(f) \n",
    "\n",
    "\n",
    "bbox = sklearn_classifier_wrapper(bb)\n",
    "inst = X_train.iloc[18].values\n",
    "explainer = ShapXAITabularExplainer(bbox)\n",
    "config = {'explainer' : 'tree', 'X_train' : X_train.iloc[0:100].values, 'feature_pert' : 'interventional'}\n",
    "explainer.fit(config)\n",
    "exp = explainer.explain(inst)"
   ]
  }
 ],
 "metadata": {
  "kernelspec": {
   "display_name": "base",
   "language": "python",
   "name": "python3"
  },
  "language_info": {
   "codemirror_mode": {
    "name": "ipython",
    "version": 3
   },
   "file_extension": ".py",
   "mimetype": "text/x-python",
   "name": "python",
   "nbconvert_exporter": "python",
   "pygments_lexer": "ipython3",
   "version": "3.11.4"
  }
 },
 "nbformat": 4,
 "nbformat_minor": 2
}
