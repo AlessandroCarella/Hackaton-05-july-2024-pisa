{
 "cells": [
  {
   "cell_type": "code",
   "execution_count": 1,
   "metadata": {},
   "outputs": [],
   "source": [
    "import pandas as pd\n",
    "import numpy as np\n",
    "from sklearn.model_selection import train_test_split\n",
    "from sklearn.metrics import accuracy_score, f1_score, classification_report\n",
    "from sklearn.ensemble import RandomForestClassifier\n",
    "from sklearn.model_selection import GridSearchCV\n",
    "from utils import get_Datasets_With_25_Split"
   ]
  },
  {
   "cell_type": "code",
   "execution_count": 2,
   "metadata": {},
   "outputs": [],
   "source": [
    "X_train, X_test, Y_train, Y_test = get_Datasets_With_25_Split()"
   ]
  },
  {
   "cell_type": "code",
   "execution_count": 4,
   "metadata": {},
   "outputs": [
    {
     "name": "stdout",
     "output_type": "stream",
     "text": [
      "Best parameters: {'max_depth': 10, 'max_features': 5, 'min_samples_split': 2, 'n_estimators': 50}\n",
      "Accuracy 0.7258647392875581\n",
      "F1-score [0.71783972 0.7334459 ]\n",
      "              precision    recall  f1-score   support\n",
      "\n",
      "           0       0.74      0.70      0.72     10653\n",
      "           1       0.71      0.75      0.73     10654\n",
      "\n",
      "    accuracy                           0.73     21307\n",
      "   macro avg       0.73      0.73      0.73     21307\n",
      "weighted avg       0.73      0.73      0.73     21307\n",
      "\n"
     ]
    }
   ],
   "source": [
    "clf = RandomForestClassifier()\n",
    "rf_params = {\"max_depth\": [5, 8, 10],#Default=None If None, then nodes are expanded until all leaves are pure or until all leaves contain less than min_samples_split samples.\n",
    "             \"max_features\": [3, 5, 7],#default=”sqrt”\n",
    "             \"min_samples_split\": [2, 5, 8],#default=2\n",
    "             \"n_estimators\": [25, 50] #default=100\n",
    "              }\n",
    "\n",
    "grid_search = GridSearchCV(clf, param_grid=rf_params, cv=7)\n",
    "grid_search.fit(X_train, Y_train)\n",
    "clf = grid_search.best_estimator_\n",
    "print(\"Best parameters:\", grid_search.best_params_)\n",
    "\n",
    "predictions = clf.predict(X_test)\n",
    "\n",
    "print('Accuracy %s' % accuracy_score(Y_test, predictions))\n",
    "print('F1-score %s' % f1_score(Y_test, predictions, average=None))\n",
    "print(classification_report(Y_test, predictions))"
   ]
  },
  {
   "cell_type": "code",
   "execution_count": 5,
   "metadata": {},
   "outputs": [],
   "source": [
    "import pickle\n",
    "with open (\"pickle/random forest.pickle\", \"wb\") as f:\n",
    "    pickle.dump(clf, f)"
   ]
  }
 ],
 "metadata": {
  "kernelspec": {
   "display_name": "base",
   "language": "python",
   "name": "python3"
  },
  "language_info": {
   "codemirror_mode": {
    "name": "ipython",
    "version": 3
   },
   "file_extension": ".py",
   "mimetype": "text/x-python",
   "name": "python",
   "nbconvert_exporter": "python",
   "pygments_lexer": "ipython3",
   "version": "3.9.13"
  }
 },
 "nbformat": 4,
 "nbformat_minor": 2
}
