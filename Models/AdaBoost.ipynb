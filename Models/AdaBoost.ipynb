{
 "cells": [
  {
   "cell_type": "code",
   "execution_count": 1,
   "metadata": {},
   "outputs": [],
   "source": [
    "from sklearn.model_selection import train_test_split\n",
    "from sklearn.metrics import accuracy_score, f1_score, classification_report\n",
    "from sklearn.ensemble import GradientBoostingClassifier\n",
    "from sklearn.ensemble import AdaBoostClassifier\n",
    "from sklearn.model_selection import GridSearchCV\n",
    "import pandas as pd\n",
    "import numpy as np\n",
    "from utils import get_Datasets_With_25_Split"
   ]
  },
  {
   "cell_type": "code",
   "execution_count": 2,
   "metadata": {},
   "outputs": [
    {
     "data": {
      "text/plain": [
       "((63921, 7), (21307, 7), (21307,), (63921,))"
      ]
     },
     "execution_count": 2,
     "metadata": {},
     "output_type": "execute_result"
    }
   ],
   "source": [
    "X_train,X_test,y_train,y_test = get_Datasets_With_25_Split()\n",
    "\n",
    "X_train.shape,X_test.shape,y_test.shape,y_train.shape\n"
   ]
  },
  {
   "cell_type": "code",
   "execution_count": 3,
   "metadata": {},
   "outputs": [],
   "source": [
    "\n",
    "#Original search\n",
    "param_list = {\"learning_rate\": [0.1,0.2,0.3,0.4,0.5,0.6,0.7,0.8,0.9,0.97,1],\n",
    "               \"n_estimators\": [5, 10, 12,15],\n",
    "               \"algorithm\": ['SAMME']\n",
    "               } \n",
    "\n",
    "# param_list = {     \"n_estimators\": [5, 10, 12, 30, 50],#default=50\n",
    "#                    \"learning_rate\": [(1 / x) for x in range(2, 152,10)],#default=1\n",
    "#                    \"algorithm\": ['SAMME']\n",
    "#                    }"
   ]
  },
  {
   "cell_type": "code",
   "execution_count": 4,
   "metadata": {},
   "outputs": [
    {
     "name": "stdout",
     "output_type": "stream",
     "text": [
      "Best parameters: {'algorithm': 'SAMME', 'learning_rate': 0.9, 'n_estimators': 15}\n",
      "Accuracy 0.6646641948655372\n",
      "F1-score [0.65103785 0.67726636]\n",
      "              precision    recall  f1-score   support\n",
      "\n",
      "           0       0.68      0.63      0.65     10653\n",
      "           1       0.65      0.70      0.68     10654\n",
      "\n",
      "    accuracy                           0.66     21307\n",
      "   macro avg       0.67      0.66      0.66     21307\n",
      "weighted avg       0.67      0.66      0.66     21307\n",
      "\n"
     ]
    }
   ],
   "source": [
    "clf = GridSearchCV(AdaBoostClassifier(random_state=42),param_grid=param_list, cv=7).fit(X_train, y_train)\n",
    "clf.score(X_test, y_test)\n",
    "clf_best = clf.best_estimator_\n",
    "\n",
    "print(\"Best parameters:\", clf.best_params_)\n",
    "\n",
    "predictions = clf.predict(X_test)\n",
    "\n",
    "print('Accuracy %s' % accuracy_score(y_test, predictions))\n",
    "print('F1-score %s' % f1_score(y_test, predictions, average=None))\n",
    "print(classification_report(y_test, predictions))"
   ]
  },
  {
   "cell_type": "code",
   "execution_count": 5,
   "metadata": {},
   "outputs": [],
   "source": [
    "import pickle\n",
    "with open (\"pickle/adaboost.pickle\", \"wb\") as f:\n",
    "    pickle.dump(clf, f)"
   ]
  }
 ],
 "metadata": {
  "kernelspec": {
   "display_name": "dm2_work",
   "language": "python",
   "name": "python3"
  },
  "language_info": {
   "codemirror_mode": {
    "name": "ipython",
    "version": 3
   },
   "file_extension": ".py",
   "mimetype": "text/x-python",
   "name": "python",
   "nbconvert_exporter": "python",
   "pygments_lexer": "ipython3",
   "version": "3.9.13"
  }
 },
 "nbformat": 4,
 "nbformat_minor": 2
}
