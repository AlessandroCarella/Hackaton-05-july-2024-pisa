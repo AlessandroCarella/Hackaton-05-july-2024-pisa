{
 "cells": [
  {
   "cell_type": "code",
   "execution_count": 19,
   "metadata": {},
   "outputs": [],
   "source": [
    "from sklearn.model_selection import train_test_split\n",
    "from sklearn.metrics import accuracy_score, f1_score, classification_report\n",
    "from sklearn.ensemble import GradientBoostingClassifier\n",
    "from sklearn.ensemble import AdaBoostClassifier\n",
    "from sklearn.model_selection import GridSearchCV\n",
    "import pandas as pd\n",
    "import numpy as np\n",
    "from utils import get_Datasets_With_25_Split"
   ]
  },
  {
   "cell_type": "code",
   "execution_count": 20,
   "metadata": {},
   "outputs": [
    {
     "data": {
      "text/plain": [
       "((85347, 8), (28449, 8), (28449,), (85347,))"
      ]
     },
     "execution_count": 20,
     "metadata": {},
     "output_type": "execute_result"
    }
   ],
   "source": [
    "X_train,X_test,y_train,y_test = get_Datasets_With_25_Split()\n",
    "y_train = np.squeeze(y_train)\n",
    "y_test = np.squeeze(y_test)\n",
    "\n",
    "X_train.shape,X_test.shape,y_test.shape,y_train.shape\n"
   ]
  },
  {
   "cell_type": "code",
   "execution_count": 21,
   "metadata": {},
   "outputs": [
    {
     "data": {
      "text/plain": [
       "' #Current search\\nparam_list = {\"learning_rate\": [0.01, 0.001], #default=0.1\\n               \"max_depth\": [3, 5, 6],#default=3 \\n               \"n_estimators\": [100, 150],#default=100  \\n               \"subsample\": [1, 0.9, 0.8], # default=1.0\\n               \"ccp_alpha\": [0, 0.2, 0.5]\\n               } '"
      ]
     },
     "execution_count": 21,
     "metadata": {},
     "output_type": "execute_result"
    }
   ],
   "source": [
    "\"\"\" #Current search\n",
    "param_list = {\"learning_rate\": [0.01, 0.001], #default=0.1\n",
    "               \"max_depth\": [3, 5, 6],#default=3 \n",
    "               \"n_estimators\": [100, 150],#default=100  \n",
    "               \"subsample\": [1, 0.9, 0.8], # default=1.0\n",
    "               \"ccp_alpha\": [0, 0.2, 0.5]\n",
    "               } \"\"\""
   ]
  },
  {
   "cell_type": "code",
   "execution_count": 22,
   "metadata": {},
   "outputs": [
    {
     "data": {
      "text/plain": [
       "' clf = GridSearchCV(GradientBoostingClassifier(random_state=42),param_list, cv=7).fit(X_train, y_train)\\nclf.score(X_test, y_test)\\nclf = clf.best_estimator_\\n\\nprint(\"Best parameters:\", clf.best_params_)\\n\\npredictions = clf.predict(X_test)\\n\\nprint(\\'Accuracy %s\\' % accuracy_score(y_test, predictions))\\nprint(\\'F1-score %s\\' % f1_score(y_test, predictions, average=None))\\nprint(classification_report(y_test, predictions)) '"
      ]
     },
     "execution_count": 22,
     "metadata": {},
     "output_type": "execute_result"
    }
   ],
   "source": [
    "\"\"\" clf = GridSearchCV(GradientBoostingClassifier(random_state=42),param_list, cv=7).fit(X_train, y_train)\n",
    "clf.score(X_test, y_test)\n",
    "clf = clf.best_estimator_\n",
    "\n",
    "print(\"Best parameters:\", clf.best_params_)\n",
    "\n",
    "predictions = clf.predict(X_test)\n",
    "\n",
    "print('Accuracy %s' % accuracy_score(y_test, predictions))\n",
    "print('F1-score %s' % f1_score(y_test, predictions, average=None))\n",
    "print(classification_report(y_test, predictions)) \"\"\""
   ]
  },
  {
   "cell_type": "code",
   "execution_count": 23,
   "metadata": {},
   "outputs": [],
   "source": [
    "\n",
    "#Original search\n",
    "param_list = {\"learning_rate\": [0.1,0.2,0.3,0.4,0.5,0.6,0.7,0.8,0.9,0.97,1],\n",
    "               \"n_estimators\": [5, 10, 12,15],\n",
    "               \"algorithm\": ['SAMME']\n",
    "               } \n",
    "\n",
    "param_list = {     \"n_estimators\": [5, 12, 50, 100],#default=50\n",
    "                   \"learning_rate\": [(1 / x) for x in range(2, 152,10)],#default=1\n",
    "                   \"algorithm\": ['SAMME']\n",
    "                   }"
   ]
  },
  {
   "cell_type": "code",
   "execution_count": 24,
   "metadata": {},
   "outputs": [
    {
     "name": "stdout",
     "output_type": "stream",
     "text": [
      "Best parameters: {'algorithm': 'SAMME', 'learning_rate': 0.016129032258064516, 'n_estimators': 100}\n",
      "Accuracy 0.49829519491019014\n",
      "F1-score [0.63492348 0.         0.69845653 0.        ]\n",
      "              precision    recall  f1-score   support\n",
      "\n",
      "           0       0.47      1.00      0.63      7094\n",
      "           1       0.00      0.00      0.00      7181\n",
      "           2       0.54      1.00      0.70      7082\n",
      "           3       0.00      0.00      0.00      7092\n",
      "\n",
      "    accuracy                           0.50     28449\n",
      "   macro avg       0.25      0.50      0.33     28449\n",
      "weighted avg       0.25      0.50      0.33     28449\n",
      "\n"
     ]
    },
    {
     "name": "stderr",
     "output_type": "stream",
     "text": [
      "/opt/miniconda3/envs/dm2_work/lib/python3.9/site-packages/sklearn/metrics/_classification.py:1509: UndefinedMetricWarning: Precision is ill-defined and being set to 0.0 in labels with no predicted samples. Use `zero_division` parameter to control this behavior.\n",
      "  _warn_prf(average, modifier, f\"{metric.capitalize()} is\", len(result))\n",
      "/opt/miniconda3/envs/dm2_work/lib/python3.9/site-packages/sklearn/metrics/_classification.py:1509: UndefinedMetricWarning: Precision is ill-defined and being set to 0.0 in labels with no predicted samples. Use `zero_division` parameter to control this behavior.\n",
      "  _warn_prf(average, modifier, f\"{metric.capitalize()} is\", len(result))\n",
      "/opt/miniconda3/envs/dm2_work/lib/python3.9/site-packages/sklearn/metrics/_classification.py:1509: UndefinedMetricWarning: Precision is ill-defined and being set to 0.0 in labels with no predicted samples. Use `zero_division` parameter to control this behavior.\n",
      "  _warn_prf(average, modifier, f\"{metric.capitalize()} is\", len(result))\n"
     ]
    }
   ],
   "source": [
    "clf = GridSearchCV(AdaBoostClassifier(random_state=42),param_grid=param_list, cv=7).fit(X_train, y_train)\n",
    "clf.score(X_test, y_test)\n",
    "clf_best = clf.best_estimator_\n",
    "\n",
    "print(\"Best parameters:\", clf.best_params_)\n",
    "\n",
    "predictions = clf.predict(X_test)\n",
    "\n",
    "print('Accuracy %s' % accuracy_score(y_test, predictions))\n",
    "print('F1-score %s' % f1_score(y_test, predictions, average=None))\n",
    "print(classification_report(y_test, predictions))"
   ]
  }
 ],
 "metadata": {
  "kernelspec": {
   "display_name": "dm2_work",
   "language": "python",
   "name": "python3"
  },
  "language_info": {
   "codemirror_mode": {
    "name": "ipython",
    "version": 3
   },
   "file_extension": ".py",
   "mimetype": "text/x-python",
   "name": "python",
   "nbconvert_exporter": "python",
   "pygments_lexer": "ipython3",
   "version": "3.9.19"
  }
 },
 "nbformat": 4,
 "nbformat_minor": 2
}
