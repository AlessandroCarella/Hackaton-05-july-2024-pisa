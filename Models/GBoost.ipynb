{
 "cells": [
  {
   "cell_type": "code",
   "execution_count": 4,
   "metadata": {},
   "outputs": [],
   "source": [
    "from sklearn.model_selection import train_test_split\n",
    "from sklearn.ensemble import GradientBoostingClassifier\n",
    "from sklearn.model_selection import GridSearchCV\n",
    "import pandas as pd\n",
    "import numpy as np"
   ]
  },
  {
   "cell_type": "code",
   "execution_count": 6,
   "metadata": {},
   "outputs": [],
   "source": [
    "X_train =pd.read_csv('../Dataset/datasetWithTarget.csv')\n",
    "X_test\n",
    "y_train\n",
    "y_test"
   ]
  },
  {
   "cell_type": "code",
   "execution_count": 9,
   "metadata": {},
   "outputs": [],
   "source": [
    "#Change it to use the indexes as ale said\n",
    "# Select all columns except the last\n",
    "x = df.iloc[:, :-1]  # Select all rows and all columns except the last\n",
    "# Select the last column\n",
    "y = df.iloc[:, -1]  # Select all rows and the last column\n",
    "X_train,X_test, y_train, y_test = train_test_split(x,y,random_state=42, test_size=0.2, stratify=y)"
   ]
  },
  {
   "cell_type": "code",
   "execution_count": null,
   "metadata": {},
   "outputs": [],
   "source": [
    "#Current search\n",
    "param_list = {\"learning_rate\": [0.01, 0.001], #default=0.1\n",
    "               \"max_depth\": [3, 5, 6],#default=3 \n",
    "               \"n_estimators\": [100, 150],#default=100  \n",
    "               \"subsample\": [1, 0.9, 0.8] # default=1.0 \n",
    "               } \n",
    "\n",
    "#Original search\n",
    "gbm_params = {\"learning_rate\": [0.01, 0.1], #default=0.1\n",
    "               \"max_depth\": [3, 8, 10],#default=3 \n",
    "               \"n_estimators\": [100, 500],#default=100  \n",
    "               \"subsample\": [1, 0.5, 0.7] # default=1.0 \n",
    "               } "
   ]
  },
  {
   "cell_type": "code",
   "execution_count": null,
   "metadata": {},
   "outputs": [],
   "source": [
    "clf = GradientBoostingClassifier(n_estimators=100, learning_rate=1.0,\n",
    "    max_depth=1, random_state=0).fit(X_train, y_train)\n",
    "clf.score(X_test, y_test)\n",
    "\n",
    "clf_rf_gs = GridSearchCV(AdaBoostClassifier(RandomForestClassifier(n_jobs=6), random_state=42),param_list,cv=7,n_jobs=6)\n",
    "clf_rf_gs.fit(X_train, y_train)\n",
    "clf_rf_gs = clf_rf_gs.best_estimator_"
   ]
  }
 ],
 "metadata": {
  "kernelspec": {
   "display_name": "dm2_work",
   "language": "python",
   "name": "python3"
  },
  "language_info": {
   "codemirror_mode": {
    "name": "ipython",
    "version": 3
   },
   "file_extension": ".py",
   "mimetype": "text/x-python",
   "name": "python",
   "nbconvert_exporter": "python",
   "pygments_lexer": "ipython3",
   "version": "3.9.19"
  }
 },
 "nbformat": 4,
 "nbformat_minor": 2
}
