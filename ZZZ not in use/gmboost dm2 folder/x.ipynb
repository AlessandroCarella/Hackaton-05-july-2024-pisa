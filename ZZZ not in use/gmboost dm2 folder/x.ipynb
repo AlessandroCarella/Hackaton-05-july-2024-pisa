{
 "cells": [
  {
   "cell_type": "code",
   "execution_count": 1,
   "metadata": {},
   "outputs": [],
   "source": [
    "#parameters\n",
    "loss = \"log_loss\" \n",
    "learningRates = [0.2, 0.1, 0.05] #0.1 is better for bigger holdouts, adding 0.05 so maybe the results will improve, since i'm using the full dataset \n",
    "n_estimators = [50, 75] #added 75 since 50 was the most frequent, maybe the results go up \n",
    "min_samples_splits = [2, 3, 4] # 3 out of 5 are with 2, decided to add the middle value\n",
    "min_samples_leafs = [3, 1, 2] # same reasoning as before\n",
    "max_depths = [3,  5] # most results are with 3, maybe going higher will improve it \n",
    "tolerances = [0.01, 0.001] # all results are with 0.001, the initial parameters where 0.001 and 0.0001, going higher might help\n",
    "i = 0\n",
    "for learningRate in learningRates:\n",
    "    for n_estimator in n_estimators:\n",
    "        for min_samples_split in min_samples_splits:\n",
    "            for min_samples_leaf in min_samples_leafs:\n",
    "                for max_depth in max_depths:\n",
    "                    for tolerance in tolerances:   \n",
    "                        i+=1"
   ]
  },
  {
   "cell_type": "code",
   "execution_count": 2,
   "metadata": {},
   "outputs": [
    {
     "data": {
      "text/plain": [
       "216"
      ]
     },
     "execution_count": 2,
     "metadata": {},
     "output_type": "execute_result"
    }
   ],
   "source": [
    "i"
   ]
  }
 ],
 "metadata": {
  "kernelspec": {
   "display_name": "Python 3",
   "language": "python",
   "name": "python3"
  },
  "language_info": {
   "codemirror_mode": {
    "name": "ipython",
    "version": 3
   },
   "file_extension": ".py",
   "mimetype": "text/x-python",
   "name": "python",
   "nbconvert_exporter": "python",
   "pygments_lexer": "ipython3",
   "version": "3.9.13"
  }
 },
 "nbformat": 4,
 "nbformat_minor": 2
}
